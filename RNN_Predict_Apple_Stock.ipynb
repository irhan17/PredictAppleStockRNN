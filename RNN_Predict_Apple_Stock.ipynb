{
  "nbformat": 4,
  "nbformat_minor": 0,
  "metadata": {
    "colab": {
      "name": "RNN Predict Apple Stock.ipynb",
      "provenance": [],
      "collapsed_sections": []
    },
    "kernelspec": {
      "name": "python3",
      "display_name": "Python 3"
    }
  },
  "cells": [
    {
      "cell_type": "markdown",
      "metadata": {
        "id": "xpAuMVCwfWs8"
      },
      "source": [
        "# RNN To Predict Apple Stock Price\n"
      ]
    },
    {
      "cell_type": "markdown",
      "metadata": {
        "id": "nxJfRe4bfYVA"
      },
      "source": [
        "## Step 1 - Data Preprocessing"
      ]
    },
    {
      "cell_type": "markdown",
      "metadata": {
        "id": "ir9zwETrfbrp"
      },
      "source": [
        "### Importing Libraries"
      ]
    },
    {
      "cell_type": "code",
      "source": [
        "import numpy as np\n",
        "import matplotlib.pyplot as plt\n",
        "import pandas as pd"
      ],
      "metadata": {
        "id": "j6JP0jdiujcD"
      },
      "execution_count": 28,
      "outputs": []
    },
    {
      "cell_type": "markdown",
      "metadata": {
        "id": "nQ47JAxrgmaL"
      },
      "source": [
        "### Importing Dataset"
      ]
    },
    {
      "cell_type": "code",
      "source": [
        "dataset_train = pd.read_csv('AppleTrainingSet.csv')\n",
        "training_set = dataset_train.iloc[:, 1:2].values"
      ],
      "metadata": {
        "id": "MNw_E5Ayu38o"
      },
      "execution_count": 29,
      "outputs": []
    },
    {
      "cell_type": "markdown",
      "metadata": {
        "id": "HT8_2UJegtG5"
      },
      "source": [
        "### Feature Scaling"
      ]
    },
    {
      "cell_type": "code",
      "source": [
        "from sklearn.preprocessing import MinMaxScaler\n",
        "sc = MinMaxScaler(feature_range = (0, 1))\n",
        "training_set_scaled = sc.fit_transform(training_set)"
      ],
      "metadata": {
        "id": "kTyA8H8e3qfj"
      },
      "execution_count": 30,
      "outputs": []
    },
    {
      "cell_type": "markdown",
      "metadata": {
        "id": "JyYgYocqhNUg"
      },
      "source": [
        "### Structuring with 63 timesteps and 1 output\n",
        "To predict next stock price (1 output) RNN looks at previous 63 financial days (timesteps in previous quarter).\n",
        "\n"
      ]
    },
    {
      "cell_type": "code",
      "source": [
        "X_train = []\n",
        "y_train = []\n",
        "for i in range(63, 1006):\n",
        "    X_train.append(training_set_scaled[i-63:i, 0])\n",
        "    y_train.append(training_set_scaled[i, 0])\n",
        "X_train, y_train = np.array(X_train), np.array(y_train)"
      ],
      "metadata": {
        "id": "DES6zYke3rnJ"
      },
      "execution_count": 31,
      "outputs": []
    },
    {
      "cell_type": "markdown",
      "metadata": {
        "id": "D8yaN7Zvi95l"
      },
      "source": [
        "### Fitting for RNN Training\n"
      ]
    },
    {
      "cell_type": "code",
      "source": [
        "X_train = np.reshape(X_train, (X_train.shape[0], X_train.shape[1], 1))"
      ],
      "metadata": {
        "id": "hw_HsYam3uUX"
      },
      "execution_count": 32,
      "outputs": []
    },
    {
      "cell_type": "markdown",
      "metadata": {
        "id": "ZRRSOJeVjEWV"
      },
      "source": [
        "## Step 2 - Compiling & Training the RNN"
      ]
    },
    {
      "cell_type": "markdown",
      "metadata": {
        "id": "k4XV88JMjHXG"
      },
      "source": [
        "### Importing Keras & Initializing the RNN"
      ]
    },
    {
      "cell_type": "code",
      "source": [
        "from keras.models import Sequential #Sequence of Layers\n",
        "from keras.layers import Dense #Output Layer\n",
        "from keras.layers import LSTM #LSTM Layers\n",
        "from keras.layers import Dropout #Dropout Regularisation - number of neurons to ignore (dropout)\n",
        "\n",
        "regressor = Sequential()"
      ],
      "metadata": {
        "id": "Fw5PWr0W3vDv"
      },
      "execution_count": 33,
      "outputs": []
    },
    {
      "cell_type": "markdown",
      "metadata": {
        "id": "62eg1OPGjT8z"
      },
      "source": [
        "### Three LSTM layers with Dropout Regularisation\n",
        "Dropout Regularisation: To avoid overfitting\n"
      ]
    },
    {
      "cell_type": "code",
      "source": [
        "regressor.add(LSTM(units = 50, return_sequences = True, input_shape = (X_train.shape[1], 1)))\n",
        "regressor.add(Dropout(0.2))  #20% dropout rate\n",
        "\n",
        "regressor.add(LSTM(units = 50, return_sequences = True))\n",
        "regressor.add(Dropout(0.2))\n",
        "\n",
        "regressor.add(LSTM(units = 50))\n",
        "regressor.add(Dropout(0.2))"
      ],
      "metadata": {
        "id": "7JN6g00G3x5l"
      },
      "execution_count": 34,
      "outputs": []
    },
    {
      "cell_type": "markdown",
      "metadata": {
        "id": "9ABI6rOIkHhk"
      },
      "source": [
        "### RNN Output Layer"
      ]
    },
    {
      "cell_type": "code",
      "source": [
        "regressor.add(Dense(units = 1))"
      ],
      "metadata": {
        "id": "ZEJSb7q132MV"
      },
      "execution_count": 35,
      "outputs": []
    },
    {
      "cell_type": "markdown",
      "metadata": {
        "id": "zLx4K7uUkPSh"
      },
      "source": [
        "### Compiling the RNN"
      ]
    },
    {
      "cell_type": "code",
      "source": [
        "regressor.compile(optimizer = 'adam', loss = 'mean_squared_error')"
      ],
      "metadata": {
        "id": "fF4wVFIt33Ne"
      },
      "execution_count": 36,
      "outputs": []
    },
    {
      "cell_type": "markdown",
      "metadata": {
        "id": "-mPhwKGkkebi"
      },
      "source": [
        "### Training RNN Using Training Set"
      ]
    },
    {
      "cell_type": "code",
      "source": [
        "regressor.fit(X_train, y_train, epochs = 100, batch_size = 32)"
      ],
      "metadata": {
        "colab": {
          "base_uri": "https://localhost:8080/"
        },
        "id": "ZcxZk2QD34v8",
        "outputId": "7c164b53-1db3-4ef9-e06b-ff27a27c8251"
      },
      "execution_count": 37,
      "outputs": [
        {
          "output_type": "stream",
          "name": "stdout",
          "text": [
            "Epoch 1/100\n",
            "30/30 [==============================] - 13s 176ms/step - loss: 0.0192\n",
            "Epoch 2/100\n",
            "30/30 [==============================] - 6s 191ms/step - loss: 0.0038\n",
            "Epoch 3/100\n",
            "30/30 [==============================] - 6s 186ms/step - loss: 0.0033\n",
            "Epoch 4/100\n",
            "30/30 [==============================] - 5s 156ms/step - loss: 0.0032\n",
            "Epoch 5/100\n",
            "30/30 [==============================] - 3s 94ms/step - loss: 0.0031\n",
            "Epoch 6/100\n",
            "30/30 [==============================] - 3s 93ms/step - loss: 0.0028\n",
            "Epoch 7/100\n",
            "30/30 [==============================] - 3s 93ms/step - loss: 0.0023\n",
            "Epoch 8/100\n",
            "30/30 [==============================] - 3s 96ms/step - loss: 0.0025\n",
            "Epoch 9/100\n",
            "30/30 [==============================] - 3s 94ms/step - loss: 0.0027\n",
            "Epoch 10/100\n",
            "30/30 [==============================] - 3s 94ms/step - loss: 0.0023\n",
            "Epoch 11/100\n",
            "30/30 [==============================] - 3s 94ms/step - loss: 0.0022\n",
            "Epoch 12/100\n",
            "30/30 [==============================] - 3s 95ms/step - loss: 0.0021\n",
            "Epoch 13/100\n",
            "30/30 [==============================] - 3s 95ms/step - loss: 0.0021\n",
            "Epoch 14/100\n",
            "30/30 [==============================] - 3s 96ms/step - loss: 0.0024\n",
            "Epoch 15/100\n",
            "30/30 [==============================] - 3s 95ms/step - loss: 0.0020\n",
            "Epoch 16/100\n",
            "30/30 [==============================] - 3s 94ms/step - loss: 0.0027\n",
            "Epoch 17/100\n",
            "30/30 [==============================] - 3s 95ms/step - loss: 0.0019\n",
            "Epoch 18/100\n",
            "30/30 [==============================] - 3s 94ms/step - loss: 0.0017\n",
            "Epoch 19/100\n",
            "30/30 [==============================] - 3s 94ms/step - loss: 0.0018\n",
            "Epoch 20/100\n",
            "30/30 [==============================] - 3s 94ms/step - loss: 0.0018\n",
            "Epoch 21/100\n",
            "30/30 [==============================] - 3s 95ms/step - loss: 0.0021\n",
            "Epoch 22/100\n",
            "30/30 [==============================] - 3s 96ms/step - loss: 0.0020\n",
            "Epoch 23/100\n",
            "30/30 [==============================] - 3s 95ms/step - loss: 0.0018\n",
            "Epoch 24/100\n",
            "30/30 [==============================] - 3s 94ms/step - loss: 0.0019\n",
            "Epoch 25/100\n",
            "30/30 [==============================] - 3s 94ms/step - loss: 0.0019\n",
            "Epoch 26/100\n",
            "30/30 [==============================] - 3s 93ms/step - loss: 0.0014\n",
            "Epoch 27/100\n",
            "30/30 [==============================] - 3s 94ms/step - loss: 0.0018\n",
            "Epoch 28/100\n",
            "30/30 [==============================] - 3s 93ms/step - loss: 0.0018\n",
            "Epoch 29/100\n",
            "30/30 [==============================] - 3s 92ms/step - loss: 0.0018\n",
            "Epoch 30/100\n",
            "30/30 [==============================] - 3s 93ms/step - loss: 0.0016\n",
            "Epoch 31/100\n",
            "30/30 [==============================] - 3s 94ms/step - loss: 0.0014\n",
            "Epoch 32/100\n",
            "30/30 [==============================] - 3s 95ms/step - loss: 0.0015\n",
            "Epoch 33/100\n",
            "30/30 [==============================] - 4s 122ms/step - loss: 0.0016\n",
            "Epoch 34/100\n",
            "30/30 [==============================] - 3s 101ms/step - loss: 0.0014\n",
            "Epoch 35/100\n",
            "30/30 [==============================] - 3s 95ms/step - loss: 0.0014\n",
            "Epoch 36/100\n",
            "30/30 [==============================] - 3s 95ms/step - loss: 0.0014\n",
            "Epoch 37/100\n",
            "30/30 [==============================] - 3s 95ms/step - loss: 0.0017\n",
            "Epoch 38/100\n",
            "30/30 [==============================] - 3s 95ms/step - loss: 0.0014\n",
            "Epoch 39/100\n",
            "30/30 [==============================] - 3s 95ms/step - loss: 0.0012\n",
            "Epoch 40/100\n",
            "30/30 [==============================] - 3s 95ms/step - loss: 0.0013\n",
            "Epoch 41/100\n",
            "30/30 [==============================] - 3s 95ms/step - loss: 0.0015\n",
            "Epoch 42/100\n",
            "30/30 [==============================] - 3s 94ms/step - loss: 0.0015\n",
            "Epoch 43/100\n",
            "30/30 [==============================] - 3s 94ms/step - loss: 0.0015\n",
            "Epoch 44/100\n",
            "30/30 [==============================] - 3s 94ms/step - loss: 0.0014\n",
            "Epoch 45/100\n",
            "30/30 [==============================] - 3s 95ms/step - loss: 0.0014\n",
            "Epoch 46/100\n",
            "30/30 [==============================] - 3s 94ms/step - loss: 0.0013\n",
            "Epoch 47/100\n",
            "30/30 [==============================] - 3s 93ms/step - loss: 0.0011\n",
            "Epoch 48/100\n",
            "30/30 [==============================] - 3s 94ms/step - loss: 0.0011\n",
            "Epoch 49/100\n",
            "30/30 [==============================] - 3s 93ms/step - loss: 0.0014\n",
            "Epoch 50/100\n",
            "30/30 [==============================] - 3s 94ms/step - loss: 0.0013\n",
            "Epoch 51/100\n",
            "30/30 [==============================] - 3s 94ms/step - loss: 0.0016\n",
            "Epoch 52/100\n",
            "30/30 [==============================] - 3s 93ms/step - loss: 0.0012\n",
            "Epoch 53/100\n",
            "30/30 [==============================] - 3s 95ms/step - loss: 0.0011\n",
            "Epoch 54/100\n",
            "30/30 [==============================] - 3s 95ms/step - loss: 0.0013\n",
            "Epoch 55/100\n",
            "30/30 [==============================] - 3s 94ms/step - loss: 0.0012\n",
            "Epoch 56/100\n",
            "30/30 [==============================] - 3s 95ms/step - loss: 0.0014\n",
            "Epoch 57/100\n",
            "30/30 [==============================] - 3s 94ms/step - loss: 0.0012\n",
            "Epoch 58/100\n",
            "30/30 [==============================] - 3s 95ms/step - loss: 0.0011\n",
            "Epoch 59/100\n",
            "30/30 [==============================] - 3s 92ms/step - loss: 0.0013\n",
            "Epoch 60/100\n",
            "30/30 [==============================] - 3s 95ms/step - loss: 0.0013\n",
            "Epoch 61/100\n",
            "30/30 [==============================] - 3s 94ms/step - loss: 0.0011\n",
            "Epoch 62/100\n",
            "30/30 [==============================] - 3s 97ms/step - loss: 0.0011\n",
            "Epoch 63/100\n",
            "30/30 [==============================] - 3s 94ms/step - loss: 0.0012\n",
            "Epoch 64/100\n",
            "30/30 [==============================] - 3s 96ms/step - loss: 0.0011\n",
            "Epoch 65/100\n",
            "30/30 [==============================] - 3s 95ms/step - loss: 0.0012\n",
            "Epoch 66/100\n",
            "30/30 [==============================] - 3s 93ms/step - loss: 9.9692e-04\n",
            "Epoch 67/100\n",
            "30/30 [==============================] - 3s 94ms/step - loss: 0.0011\n",
            "Epoch 68/100\n",
            "30/30 [==============================] - 3s 96ms/step - loss: 0.0010\n",
            "Epoch 69/100\n",
            "30/30 [==============================] - 3s 93ms/step - loss: 0.0010\n",
            "Epoch 70/100\n",
            "30/30 [==============================] - 3s 96ms/step - loss: 0.0010\n",
            "Epoch 71/100\n",
            "30/30 [==============================] - 3s 95ms/step - loss: 0.0010\n",
            "Epoch 72/100\n",
            "30/30 [==============================] - 3s 95ms/step - loss: 0.0011\n",
            "Epoch 73/100\n",
            "30/30 [==============================] - 3s 95ms/step - loss: 0.0010\n",
            "Epoch 74/100\n",
            "30/30 [==============================] - 3s 95ms/step - loss: 0.0010\n",
            "Epoch 75/100\n",
            "30/30 [==============================] - 3s 95ms/step - loss: 0.0012\n",
            "Epoch 76/100\n",
            "30/30 [==============================] - 3s 94ms/step - loss: 0.0010\n",
            "Epoch 77/100\n",
            "30/30 [==============================] - 3s 94ms/step - loss: 9.0419e-04\n",
            "Epoch 78/100\n",
            "30/30 [==============================] - 3s 94ms/step - loss: 0.0012\n",
            "Epoch 79/100\n",
            "30/30 [==============================] - 3s 95ms/step - loss: 0.0011\n",
            "Epoch 80/100\n",
            "30/30 [==============================] - 3s 97ms/step - loss: 0.0011\n",
            "Epoch 81/100\n",
            "30/30 [==============================] - 3s 95ms/step - loss: 0.0013\n",
            "Epoch 82/100\n",
            "30/30 [==============================] - 3s 95ms/step - loss: 0.0010\n",
            "Epoch 83/100\n",
            "30/30 [==============================] - 3s 93ms/step - loss: 9.2528e-04\n",
            "Epoch 84/100\n",
            "30/30 [==============================] - 3s 94ms/step - loss: 9.3365e-04\n",
            "Epoch 85/100\n",
            "30/30 [==============================] - 3s 95ms/step - loss: 9.6163e-04\n",
            "Epoch 86/100\n",
            "30/30 [==============================] - 3s 95ms/step - loss: 0.0010\n",
            "Epoch 87/100\n",
            "30/30 [==============================] - 3s 94ms/step - loss: 8.9392e-04\n",
            "Epoch 88/100\n",
            "30/30 [==============================] - 3s 95ms/step - loss: 9.7289e-04\n",
            "Epoch 89/100\n",
            "30/30 [==============================] - 3s 95ms/step - loss: 9.8347e-04\n",
            "Epoch 90/100\n",
            "30/30 [==============================] - 3s 94ms/step - loss: 0.0010\n",
            "Epoch 91/100\n",
            "30/30 [==============================] - 3s 95ms/step - loss: 0.0011\n",
            "Epoch 92/100\n",
            "30/30 [==============================] - 3s 94ms/step - loss: 0.0012\n",
            "Epoch 93/100\n",
            "30/30 [==============================] - 3s 96ms/step - loss: 9.5776e-04\n",
            "Epoch 94/100\n",
            "30/30 [==============================] - 3s 95ms/step - loss: 8.1483e-04\n",
            "Epoch 95/100\n",
            "30/30 [==============================] - 3s 94ms/step - loss: 9.4635e-04\n",
            "Epoch 96/100\n",
            "30/30 [==============================] - 3s 95ms/step - loss: 8.2086e-04\n",
            "Epoch 97/100\n",
            "30/30 [==============================] - 3s 95ms/step - loss: 0.0010\n",
            "Epoch 98/100\n",
            "30/30 [==============================] - 3s 95ms/step - loss: 0.0011\n",
            "Epoch 99/100\n",
            "30/30 [==============================] - 3s 95ms/step - loss: 0.0010\n",
            "Epoch 100/100\n",
            "30/30 [==============================] - 3s 94ms/step - loss: 0.0011\n"
          ]
        },
        {
          "output_type": "execute_result",
          "data": {
            "text/plain": [
              "<keras.callbacks.History at 0x7f599132db90>"
            ]
          },
          "metadata": {},
          "execution_count": 37
        }
      ]
    },
    {
      "cell_type": "markdown",
      "metadata": {
        "id": "4hRau_lIkrE8"
      },
      "source": [
        "## Step 3 - Predicting Stock Price + Visualizing Results"
      ]
    },
    {
      "cell_type": "markdown",
      "metadata": {
        "id": "SgJO6qEDksxD"
      },
      "source": [
        "### Gathering Real Stock Price\n"
      ]
    },
    {
      "cell_type": "code",
      "source": [
        "dataset_test = pd.read_csv('AppleTestSet.csv')\n",
        "real_stock_price = dataset_test.iloc[:, 1:2].values"
      ],
      "metadata": {
        "id": "s03cSO9636Sj"
      },
      "execution_count": 38,
      "outputs": []
    },
    {
      "cell_type": "markdown",
      "metadata": {
        "id": "GrvrLblxkz42"
      },
      "source": [
        "### Predicting Stock Price"
      ]
    },
    {
      "cell_type": "code",
      "source": [
        "dataset_total = pd.concat((dataset_train['Open'], dataset_test['Open']), axis = 0)\n",
        "inputs = dataset_total[len(dataset_total) - len(dataset_test) - 63:].values\n",
        "inputs = inputs.reshape(-1,1)\n",
        "inputs = sc.transform(inputs)\n",
        "X_test = []\n",
        "for i in range(63, 315):\n",
        "    X_test.append(inputs[i-63:i, 0])\n",
        "X_test = np.array(X_test)\n",
        "X_test = np.reshape(X_test, (X_test.shape[0], X_test.shape[1], 1))\n",
        "predicted_stock_price = regressor.predict(X_test)\n",
        "predicted_stock_price = sc.inverse_transform(predicted_stock_price)"
      ],
      "metadata": {
        "id": "bYzpzMLH37Vz"
      },
      "execution_count": 45,
      "outputs": []
    },
    {
      "cell_type": "markdown",
      "metadata": {
        "id": "iFTNs3YHk6FQ"
      },
      "source": [
        "### Visualizing Results\n",
        "#### Predicts stock price for 2021"
      ]
    },
    {
      "cell_type": "code",
      "source": [
        "plt.plot(real_stock_price, color = 'red', label = 'Actual Apple Stock Price')\n",
        "plt.plot(predicted_stock_price, color = 'blue', label = 'Predicted Apple Stock Price')\n",
        "plt.title('RNN Prediction of Apple Stock Price in 2021')\n",
        "plt.xlabel('Trading Days Into 2021')\n",
        "plt.ylabel('Apple Stock Price')\n",
        "plt.legend()\n",
        "plt.show()"
      ],
      "metadata": {
        "colab": {
          "base_uri": "https://localhost:8080/",
          "height": 295
        },
        "id": "Zq6vX-cOVlbl",
        "outputId": "b7c476e7-bf3b-45dd-8cc3-0eb389307fda"
      },
      "execution_count": 48,
      "outputs": [
        {
          "output_type": "display_data",
          "data": {
            "image/png": "[encoded data removed]",
            "text/plain": [
              "<Figure size 432x288 with 1 Axes>"
            ]
          },
          "metadata": {
            "needs_background": "light"
          }
        }
      ]
    }
  ]
}